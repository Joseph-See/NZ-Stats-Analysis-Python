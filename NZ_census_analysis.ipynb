{
    "cells": [
        {
            "cell_type": "markdown",
            "source": [
                "# Applying Data Science Techniques to New Zealand's 2018 Census Data"
            ],
            "metadata": {}
        },
        {
            "cell_type": "markdown",
            "source": [
                "## Languages spoken"
            ],
            "metadata": {}
        },
        {
            "cell_type": "code",
            "execution_count": 2,
            "source": [
                "import numpy as np\r\n",
                "from numpy.random import randn\r\n",
                "import pandas as pd\r\n",
                "from pandas import Series, DataFrame\r\n",
                "\r\n",
                "import matplotlib.pyplot as plt\r\n",
                "from pylab import rcParams"
            ],
            "outputs": [],
            "metadata": {}
        },
        {
            "cell_type": "code",
            "execution_count": 3,
            "source": [
                "# import csv data on number of speakers of various languages\r\n",
                "address = \"languages-spoken-total-responses-2018-census-csv.csv\"\r\n",
                "df = pd.read_csv(address)\r\n",
                "df.columns = ['Code',  'Language', 'Number of speakers']\r\n",
                "df = df.sort_values(by=(\"Number of speakers\"), ascending=False)\r\n",
                "df = df.drop([197, 198, 196])\r\n",
                "df.head(10)"
            ],
            "outputs": [
                {
                    "output_type": "execute_result",
                    "data": {
                        "text/plain": [
                            "      Code                     Language  Number of speakers\n",
                            "3    01112                      English             4482135\n",
                            "108  16110                        Māori              185955\n",
                            "109  16111                       Samoan              101937\n",
                            "190  66666  None (eg too young to talk)              101751\n",
                            "88   13113             Northern Chinese               95253\n",
                            "43   07110                        Hindi               69471\n",
                            "16   02110                       French               55116\n",
                            "85   13110                          Yue               52767\n",
                            "84   13100  Sinitic not further defined               51501\n",
                            "132  17115                      Tagalog               43278"
                        ],
                        "text/html": [
                            "<div>\n",
                            "<style scoped>\n",
                            "    .dataframe tbody tr th:only-of-type {\n",
                            "        vertical-align: middle;\n",
                            "    }\n",
                            "\n",
                            "    .dataframe tbody tr th {\n",
                            "        vertical-align: top;\n",
                            "    }\n",
                            "\n",
                            "    .dataframe thead th {\n",
                            "        text-align: right;\n",
                            "    }\n",
                            "</style>\n",
                            "<table border=\"1\" class=\"dataframe\">\n",
                            "  <thead>\n",
                            "    <tr style=\"text-align: right;\">\n",
                            "      <th></th>\n",
                            "      <th>Code</th>\n",
                            "      <th>Language</th>\n",
                            "      <th>Number of speakers</th>\n",
                            "    </tr>\n",
                            "  </thead>\n",
                            "  <tbody>\n",
                            "    <tr>\n",
                            "      <th>3</th>\n",
                            "      <td>01112</td>\n",
                            "      <td>English</td>\n",
                            "      <td>4482135</td>\n",
                            "    </tr>\n",
                            "    <tr>\n",
                            "      <th>108</th>\n",
                            "      <td>16110</td>\n",
                            "      <td>Māori</td>\n",
                            "      <td>185955</td>\n",
                            "    </tr>\n",
                            "    <tr>\n",
                            "      <th>109</th>\n",
                            "      <td>16111</td>\n",
                            "      <td>Samoan</td>\n",
                            "      <td>101937</td>\n",
                            "    </tr>\n",
                            "    <tr>\n",
                            "      <th>190</th>\n",
                            "      <td>66666</td>\n",
                            "      <td>None (eg too young to talk)</td>\n",
                            "      <td>101751</td>\n",
                            "    </tr>\n",
                            "    <tr>\n",
                            "      <th>88</th>\n",
                            "      <td>13113</td>\n",
                            "      <td>Northern Chinese</td>\n",
                            "      <td>95253</td>\n",
                            "    </tr>\n",
                            "    <tr>\n",
                            "      <th>43</th>\n",
                            "      <td>07110</td>\n",
                            "      <td>Hindi</td>\n",
                            "      <td>69471</td>\n",
                            "    </tr>\n",
                            "    <tr>\n",
                            "      <th>16</th>\n",
                            "      <td>02110</td>\n",
                            "      <td>French</td>\n",
                            "      <td>55116</td>\n",
                            "    </tr>\n",
                            "    <tr>\n",
                            "      <th>85</th>\n",
                            "      <td>13110</td>\n",
                            "      <td>Yue</td>\n",
                            "      <td>52767</td>\n",
                            "    </tr>\n",
                            "    <tr>\n",
                            "      <th>84</th>\n",
                            "      <td>13100</td>\n",
                            "      <td>Sinitic not further defined</td>\n",
                            "      <td>51501</td>\n",
                            "    </tr>\n",
                            "    <tr>\n",
                            "      <th>132</th>\n",
                            "      <td>17115</td>\n",
                            "      <td>Tagalog</td>\n",
                            "      <td>43278</td>\n",
                            "    </tr>\n",
                            "  </tbody>\n",
                            "</table>\n",
                            "</div>"
                        ]
                    },
                    "metadata": {},
                    "execution_count": 3
                }
            ],
            "metadata": {}
        },
        {
            "cell_type": "code",
            "execution_count": 4,
            "source": [
                "# Take only the top 10 languages spoken in NZ\r\n",
                "df_top10 = df.head(10)\r\n",
                "df_top10.head(df_top10.size)"
            ],
            "outputs": [
                {
                    "output_type": "execute_result",
                    "data": {
                        "text/plain": [
                            "      Code                     Language  Number of speakers\n",
                            "3    01112                      English             4482135\n",
                            "108  16110                        Māori              185955\n",
                            "109  16111                       Samoan              101937\n",
                            "190  66666  None (eg too young to talk)              101751\n",
                            "88   13113             Northern Chinese               95253\n",
                            "43   07110                        Hindi               69471\n",
                            "16   02110                       French               55116\n",
                            "85   13110                          Yue               52767\n",
                            "84   13100  Sinitic not further defined               51501\n",
                            "132  17115                      Tagalog               43278"
                        ],
                        "text/html": [
                            "<div>\n",
                            "<style scoped>\n",
                            "    .dataframe tbody tr th:only-of-type {\n",
                            "        vertical-align: middle;\n",
                            "    }\n",
                            "\n",
                            "    .dataframe tbody tr th {\n",
                            "        vertical-align: top;\n",
                            "    }\n",
                            "\n",
                            "    .dataframe thead th {\n",
                            "        text-align: right;\n",
                            "    }\n",
                            "</style>\n",
                            "<table border=\"1\" class=\"dataframe\">\n",
                            "  <thead>\n",
                            "    <tr style=\"text-align: right;\">\n",
                            "      <th></th>\n",
                            "      <th>Code</th>\n",
                            "      <th>Language</th>\n",
                            "      <th>Number of speakers</th>\n",
                            "    </tr>\n",
                            "  </thead>\n",
                            "  <tbody>\n",
                            "    <tr>\n",
                            "      <th>3</th>\n",
                            "      <td>01112</td>\n",
                            "      <td>English</td>\n",
                            "      <td>4482135</td>\n",
                            "    </tr>\n",
                            "    <tr>\n",
                            "      <th>108</th>\n",
                            "      <td>16110</td>\n",
                            "      <td>Māori</td>\n",
                            "      <td>185955</td>\n",
                            "    </tr>\n",
                            "    <tr>\n",
                            "      <th>109</th>\n",
                            "      <td>16111</td>\n",
                            "      <td>Samoan</td>\n",
                            "      <td>101937</td>\n",
                            "    </tr>\n",
                            "    <tr>\n",
                            "      <th>190</th>\n",
                            "      <td>66666</td>\n",
                            "      <td>None (eg too young to talk)</td>\n",
                            "      <td>101751</td>\n",
                            "    </tr>\n",
                            "    <tr>\n",
                            "      <th>88</th>\n",
                            "      <td>13113</td>\n",
                            "      <td>Northern Chinese</td>\n",
                            "      <td>95253</td>\n",
                            "    </tr>\n",
                            "    <tr>\n",
                            "      <th>43</th>\n",
                            "      <td>07110</td>\n",
                            "      <td>Hindi</td>\n",
                            "      <td>69471</td>\n",
                            "    </tr>\n",
                            "    <tr>\n",
                            "      <th>16</th>\n",
                            "      <td>02110</td>\n",
                            "      <td>French</td>\n",
                            "      <td>55116</td>\n",
                            "    </tr>\n",
                            "    <tr>\n",
                            "      <th>85</th>\n",
                            "      <td>13110</td>\n",
                            "      <td>Yue</td>\n",
                            "      <td>52767</td>\n",
                            "    </tr>\n",
                            "    <tr>\n",
                            "      <th>84</th>\n",
                            "      <td>13100</td>\n",
                            "      <td>Sinitic not further defined</td>\n",
                            "      <td>51501</td>\n",
                            "    </tr>\n",
                            "    <tr>\n",
                            "      <th>132</th>\n",
                            "      <td>17115</td>\n",
                            "      <td>Tagalog</td>\n",
                            "      <td>43278</td>\n",
                            "    </tr>\n",
                            "  </tbody>\n",
                            "</table>\n",
                            "</div>"
                        ]
                    },
                    "metadata": {},
                    "execution_count": 4
                }
            ],
            "metadata": {}
        },
        {
            "cell_type": "code",
            "execution_count": 6,
            "source": [
                "# Extract language names and reset indexing\r\n",
                "languages = df_top10['Language']\r\n",
                "languages.reset_index(drop=True, inplace=True)\r\n",
                "print(languages)\r\n"
            ],
            "outputs": [
                {
                    "output_type": "stream",
                    "name": "stdout",
                    "text": [
                        "0                        English\n",
                        "1                          Māori\n",
                        "2                         Samoan\n",
                        "3    None (eg too young to talk)\n",
                        "4               Northern Chinese\n",
                        "5                          Hindi\n",
                        "6                         French\n",
                        "7                            Yue\n",
                        "8    Sinitic not further defined\n",
                        "9                        Tagalog\n",
                        "Name: Language, dtype: object\n"
                    ]
                }
            ],
            "metadata": {}
        },
        {
            "cell_type": "code",
            "execution_count": 9,
            "source": [
                "# Extract number of speakers and reset indexing\r\n",
                "num_speakers = df_top10['Number of speakers']\r\n",
                "num_speakers.reset_index(drop=True, inplace=True)\r\n",
                "print(num_speakers)"
            ],
            "outputs": [
                {
                    "output_type": "stream",
                    "name": "stdout",
                    "text": [
                        "0    4482135\n",
                        "1     185955\n",
                        "2     101937\n",
                        "3     101751\n",
                        "4      95253\n",
                        "5      69471\n",
                        "6      55116\n",
                        "7      52767\n",
                        "8      51501\n",
                        "9      43278\n",
                        "Name: Number of speakers, dtype: int64\n"
                    ]
                }
            ],
            "metadata": {}
        },
        {
            "cell_type": "code",
            "execution_count": 24,
            "source": [
                "plt.bar(languages, num_speakers)\r\n",
                "plt.title('Top 10 languages spoken in New Zealand')\r\n",
                "plt.ylabel('Millions of speakers')\r\n",
                "plt.yticks([0, 0.25e6, 0.5e6, 1e6, 1.5e6, 2e6, 2.5e6, 3e6, 3.5e6, 4e6, 4.5e6])\r\n",
                "plt.xticks(rotation=90)\r\n",
                "plt.show()\r\n"
            ],
            "outputs": [
                {
                    "output_type": "display_data",
                    "data": {
                        "text/plain": [
                            "<Figure size 432x288 with 1 Axes>"
                        ],
                        "image/png": "[encoded data removed]"
                    },
                    "metadata": {
                        "needs_background": "light"
                    }
                }
            ],
            "metadata": {}
        },
        {
            "cell_type": "code",
            "execution_count": 28,
            "source": [
                "# Note that it is difficult to see ranges of languages other than English, so lets plot them seperately\r\n",
                "languages2 = languages[1:9]\r\n",
                "num_speakers2 = num_speakers[1:9]\r\n",
                "\r\n",
                "plt.bar(languages2, num_speakers2)\r\n",
                "plt.title('Top 9 languages other than English spoken in New Zealand')\r\n",
                "plt.xticks(rotation=90)\r\n",
                "plt.show()"
            ],
            "outputs": [
                {
                    "output_type": "display_data",
                    "data": {
                        "text/plain": [
                            "<Figure size 432x288 with 1 Axes>"
                        ],
                        "image/png": "[encoded data removed]"
                    },
                    "metadata": {
                        "needs_background": "light"
                    }
                }
            ],
            "metadata": {}
        },
        {
            "cell_type": "markdown",
            "source": [
                "## Smoking Status"
            ],
            "metadata": {}
        },
        {
            "cell_type": "code",
            "execution_count": 54,
            "source": [
                "df_smoking = pd.read_csv(\"cigarette-smoking-behaviour-2018-census-csv.csv\")\r\n",
                "df_smoking.columns = ['Code', 'Smoking_Status', 'Population']\r\n",
                "df_smoking.head(df_smoking.size)"
            ],
            "outputs": [
                {
                    "output_type": "execute_result",
                    "data": {
                        "text/plain": [
                            "          Code           Smoking_Status  Population\n",
                            "0            1           Regular smoker      498996\n",
                            "1            2                Ex-smoker      832104\n",
                            "2            3   Never smoked regularly     2445252\n",
                            "3            7  Response unidentifiable           0\n",
                            "4            9               Not stated           0\n",
                            "5  TotalStated             Total stated     3776355\n",
                            "6        Total                    Total     3776355"
                        ],
                        "text/html": [
                            "<div>\n",
                            "<style scoped>\n",
                            "    .dataframe tbody tr th:only-of-type {\n",
                            "        vertical-align: middle;\n",
                            "    }\n",
                            "\n",
                            "    .dataframe tbody tr th {\n",
                            "        vertical-align: top;\n",
                            "    }\n",
                            "\n",
                            "    .dataframe thead th {\n",
                            "        text-align: right;\n",
                            "    }\n",
                            "</style>\n",
                            "<table border=\"1\" class=\"dataframe\">\n",
                            "  <thead>\n",
                            "    <tr style=\"text-align: right;\">\n",
                            "      <th></th>\n",
                            "      <th>Code</th>\n",
                            "      <th>Smoking_Status</th>\n",
                            "      <th>Population</th>\n",
                            "    </tr>\n",
                            "  </thead>\n",
                            "  <tbody>\n",
                            "    <tr>\n",
                            "      <th>0</th>\n",
                            "      <td>1</td>\n",
                            "      <td>Regular smoker</td>\n",
                            "      <td>498996</td>\n",
                            "    </tr>\n",
                            "    <tr>\n",
                            "      <th>1</th>\n",
                            "      <td>2</td>\n",
                            "      <td>Ex-smoker</td>\n",
                            "      <td>832104</td>\n",
                            "    </tr>\n",
                            "    <tr>\n",
                            "      <th>2</th>\n",
                            "      <td>3</td>\n",
                            "      <td>Never smoked regularly</td>\n",
                            "      <td>2445252</td>\n",
                            "    </tr>\n",
                            "    <tr>\n",
                            "      <th>3</th>\n",
                            "      <td>7</td>\n",
                            "      <td>Response unidentifiable</td>\n",
                            "      <td>0</td>\n",
                            "    </tr>\n",
                            "    <tr>\n",
                            "      <th>4</th>\n",
                            "      <td>9</td>\n",
                            "      <td>Not stated</td>\n",
                            "      <td>0</td>\n",
                            "    </tr>\n",
                            "    <tr>\n",
                            "      <th>5</th>\n",
                            "      <td>TotalStated</td>\n",
                            "      <td>Total stated</td>\n",
                            "      <td>3776355</td>\n",
                            "    </tr>\n",
                            "    <tr>\n",
                            "      <th>6</th>\n",
                            "      <td>Total</td>\n",
                            "      <td>Total</td>\n",
                            "      <td>3776355</td>\n",
                            "    </tr>\n",
                            "  </tbody>\n",
                            "</table>\n",
                            "</div>"
                        ]
                    },
                    "metadata": {},
                    "execution_count": 54
                }
            ],
            "metadata": {}
        },
        {
            "cell_type": "code",
            "execution_count": 81,
            "source": [
                "# Drop some values so we only plot relevant data points\r\n",
                "df_smoking  = df_smoking.drop([3, 4,5,6])\r\n"
            ],
            "outputs": [],
            "metadata": {}
        },
        {
            "cell_type": "code",
            "execution_count": 85,
            "source": [
                "# Pie chart\r\n",
                "smokers_class = df_smoking.Smoking_Status\r\n",
                "num_smokers = df_smoking.Population\r\n",
                "color_theme = ['#C2C047', '#676522', '#6F4C25']\r\n",
                "plt.pie(num_smokers, colors=color_theme)\r\n",
                "plt.title('Proportion of smoking among NZ residents aged 15+')\r\n",
                "plt.legend(smokers_class)\r\n",
                "plt.show()"
            ],
            "outputs": [
                {
                    "output_type": "display_data",
                    "data": {
                        "text/plain": [
                            "<Figure size 432x288 with 1 Axes>"
                        ],
                        "image/png": "[encoded data removed]"
                    },
                    "metadata": {}
                }
            ],
            "metadata": {}
        },
        {
            "cell_type": "markdown",
            "source": [
                "## Ages of NZ Residents"
            ],
            "metadata": {}
        },
        {
            "cell_type": "code",
            "execution_count": 119,
            "source": [
                "ages = pd.read_csv('age-single-years-2018-census-csv.csv')\r\n",
                "num_per_age = ages.Census_night_population_count\r\n",
                "num_per_age = num_per_age.drop([121])\r\n",
                "fig = plt.figure()\r\n",
                "ax = fig.add_axes([1,1,1,1])\r\n",
                "num_per_age.plot()\r\n",
                "ax.set_xticks(range(0, 120, 10))\r\n",
                "ax.set_title('Age Distribution of New Zealand Residents as of 2018')\r\n",
                "ax.set_xlabel('Age in years')\r\n",
                "ax.set_ylabel('Number of New Zealand residents')\r\n",
                "ax.set_ylim([0, 80000])\r\n",
                "ax.set_xlim([0, 120])\r\n",
                "plt.show()"
            ],
            "outputs": [
                {
                    "output_type": "display_data",
                    "data": {
                        "text/plain": [
                            "<Figure size 432x288 with 1 Axes>"
                        ],
                        "image/png": "[encoded data removed]"
                    },
                    "metadata": {
                        "needs_background": "light"
                    }
                }
            ],
            "metadata": {}
        },
        {
            "cell_type": "code",
            "execution_count": null,
            "source": [],
            "outputs": [],
            "metadata": {}
        }
    ],
    "metadata": {
        "interpreter": {
            "hash": "58e44f17b68efb379cbe4d62d8eb29669d62251138374b19be04be7719564863"
        },
        "kernelspec": {
            "name": "python3",
            "display_name": "Python 3.9.5 64-bit"
        },
        "language_info": {
            "name": "python",
            "version": "3.9.5",
            "mimetype": "text/x-python",
            "codemirror_mode": {
                "name": "ipython",
                "version": 3
            },
            "pygments_lexer": "ipython3",
            "nbconvert_exporter": "python",
            "file_extension": ".py"
        },
        "orig_nbformat": 4
    },
    "nbformat": 4,
    "nbformat_minor": 2
}