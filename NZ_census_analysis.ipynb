{
    "cells": [
        {
            "cell_type": "markdown",
            "source": [
                "# Applying Data Science to New Zealand 2018 Census Data"
            ],
            "metadata": {}
        },
        {
            "cell_type": "markdown",
            "source": [
                "## Languages spoken"
            ],
            "metadata": {}
        },
        {
            "cell_type": "code",
            "execution_count": 1,
            "source": [
                "import numpy as np\r\n",
                "from numpy.random import randn\r\n",
                "import pandas as pd\r\n",
                "from pandas import Series, DataFrame\r\n",
                "\r\n",
                "import matplotlib.pyplot as plt\r\n",
                "from pylab import rcParams"
            ],
            "outputs": [],
            "metadata": {}
        },
        {
            "cell_type": "code",
            "execution_count": 82,
            "source": [
                "# import csv data on number of speakers of various languages\r\n",
                "address = \"languages-spoken-total-responses-2018-census-csv.csv\"\r\n",
                "df = pd.read_csv(address)\r\n",
                "df.columns = ['Code',  'Language', 'Number of speakers']\r\n",
                "df.head(10)"
            ],
            "outputs": [
                {
                    "output_type": "execute_result",
                    "data": {
                        "text/plain": [
                            "    Code                                Language  Number of speakers\n",
                            "0  01100       West Germanic not further defined                   3\n",
                            "1  01110                               Afrikaans               36966\n",
                            "2  01111                                   Dutch               23343\n",
                            "3  01112                                 English             4482135\n",
                            "4  01113                                  German               41385\n",
                            "5  01114                                Friesian                 327\n",
                            "6  01115                                 Yiddish                  39\n",
                            "7  01116                                   Scots                 174\n",
                            "8  01199  West Germanic not elsewhere classified                3210\n",
                            "9  01200      North Germanic not further defined                   3"
                        ],
                        "text/html": [
                            "<div>\n",
                            "<style scoped>\n",
                            "    .dataframe tbody tr th:only-of-type {\n",
                            "        vertical-align: middle;\n",
                            "    }\n",
                            "\n",
                            "    .dataframe tbody tr th {\n",
                            "        vertical-align: top;\n",
                            "    }\n",
                            "\n",
                            "    .dataframe thead th {\n",
                            "        text-align: right;\n",
                            "    }\n",
                            "</style>\n",
                            "<table border=\"1\" class=\"dataframe\">\n",
                            "  <thead>\n",
                            "    <tr style=\"text-align: right;\">\n",
                            "      <th></th>\n",
                            "      <th>Code</th>\n",
                            "      <th>Language</th>\n",
                            "      <th>Number of speakers</th>\n",
                            "    </tr>\n",
                            "  </thead>\n",
                            "  <tbody>\n",
                            "    <tr>\n",
                            "      <th>0</th>\n",
                            "      <td>01100</td>\n",
                            "      <td>West Germanic not further defined</td>\n",
                            "      <td>3</td>\n",
                            "    </tr>\n",
                            "    <tr>\n",
                            "      <th>1</th>\n",
                            "      <td>01110</td>\n",
                            "      <td>Afrikaans</td>\n",
                            "      <td>36966</td>\n",
                            "    </tr>\n",
                            "    <tr>\n",
                            "      <th>2</th>\n",
                            "      <td>01111</td>\n",
                            "      <td>Dutch</td>\n",
                            "      <td>23343</td>\n",
                            "    </tr>\n",
                            "    <tr>\n",
                            "      <th>3</th>\n",
                            "      <td>01112</td>\n",
                            "      <td>English</td>\n",
                            "      <td>4482135</td>\n",
                            "    </tr>\n",
                            "    <tr>\n",
                            "      <th>4</th>\n",
                            "      <td>01113</td>\n",
                            "      <td>German</td>\n",
                            "      <td>41385</td>\n",
                            "    </tr>\n",
                            "    <tr>\n",
                            "      <th>5</th>\n",
                            "      <td>01114</td>\n",
                            "      <td>Friesian</td>\n",
                            "      <td>327</td>\n",
                            "    </tr>\n",
                            "    <tr>\n",
                            "      <th>6</th>\n",
                            "      <td>01115</td>\n",
                            "      <td>Yiddish</td>\n",
                            "      <td>39</td>\n",
                            "    </tr>\n",
                            "    <tr>\n",
                            "      <th>7</th>\n",
                            "      <td>01116</td>\n",
                            "      <td>Scots</td>\n",
                            "      <td>174</td>\n",
                            "    </tr>\n",
                            "    <tr>\n",
                            "      <th>8</th>\n",
                            "      <td>01199</td>\n",
                            "      <td>West Germanic not elsewhere classified</td>\n",
                            "      <td>3210</td>\n",
                            "    </tr>\n",
                            "    <tr>\n",
                            "      <th>9</th>\n",
                            "      <td>01200</td>\n",
                            "      <td>North Germanic not further defined</td>\n",
                            "      <td>3</td>\n",
                            "    </tr>\n",
                            "  </tbody>\n",
                            "</table>\n",
                            "</div>"
                        ]
                    },
                    "metadata": {},
                    "execution_count": 82
                }
            ],
            "metadata": {}
        },
        {
            "cell_type": "code",
            "execution_count": 87,
            "source": [
                "languages = df[['Language']]\r\n",
                "num_speakers = df[['Number of speakers']]\r\n",
                "num_speakers.plot(kind=\"barh\")\r\n"
            ],
            "outputs": [
                {
                    "output_type": "execute_result",
                    "data": {
                        "text/plain": [
                            "<AxesSubplot:>"
                        ]
                    },
                    "metadata": {},
                    "execution_count": 87
                },
                {
                    "output_type": "display_data",
                    "data": {
                        "text/plain": [
                            "<Figure size 432x288 with 1 Axes>"
                        ],
                        "image/png": "[encoded data removed]"
                    },
                    "metadata": {
                        "needs_background": "light"
                    }
                }
            ],
            "metadata": {}
        },
        {
            "cell_type": "code",
            "execution_count": null,
            "source": [],
            "outputs": [],
            "metadata": {}
        }
    ],
    "metadata": {
        "orig_nbformat": 4,
        "language_info": {
            "name": "python",
            "version": "3.9.2",
            "mimetype": "text/x-python",
            "codemirror_mode": {
                "name": "ipython",
                "version": 3
            },
            "pygments_lexer": "ipython3",
            "nbconvert_exporter": "python",
            "file_extension": ".py"
        },
        "kernelspec": {
            "name": "python3",
            "display_name": "Python 3.9.2 64-bit"
        },
        "interpreter": {
            "hash": "05f03cec48dc875e206669aed8be03b15488d593fca9fb1d063f24eac82dd52e"
        }
    },
    "nbformat": 4,
    "nbformat_minor": 2
}